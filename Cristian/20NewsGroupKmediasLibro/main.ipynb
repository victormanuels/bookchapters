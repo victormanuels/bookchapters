{
 "cells": [
  {
   "cell_type": "markdown",
   "metadata": {},
   "source": [
    "# Getting Data\n",
    "\n",
    "Para cargar los datos, podemos importar la función de cargador para los 20 datos de grupos de noticias de la siguiente manera:"
   ]
  },
  {
   "cell_type": "code",
   "execution_count": 105,
   "metadata": {},
   "outputs": [],
   "source": [
    "from sklearn.datasets import fetch_20newsgroups"
   ]
  },
  {
   "cell_type": "markdown",
   "metadata": {},
   "source": [
    "Luego podemos descargar el conjunto de datos con los parámetros predeterminados:"
   ]
  },
  {
   "cell_type": "code",
   "execution_count": 106,
   "metadata": {},
   "outputs": [],
   "source": [
    "groups = fetch_20newsgroups()"
   ]
  },
  {
   "cell_type": "markdown",
   "metadata": {},
   "source": [
    "# Thinking about features\n",
    "\n",
    "Después de descargar los 20 grupos de noticias por cualquier medio que prefieramos, el objeto de datos llamado grupos ya está disponible en el programa. El objeto de datos está en forma de diccionario clave-valor. Sus claves son las siguientes:"
   ]
  },
  {
   "cell_type": "code",
   "execution_count": 107,
   "metadata": {},
   "outputs": [
    {
     "data": {
      "text/plain": [
       "dict_keys(['data', 'filenames', 'target_names', 'target', 'DESCR'])"
      ]
     },
     "execution_count": 107,
     "metadata": {},
     "output_type": "execute_result"
    }
   ],
   "source": [
    "groups.keys()"
   ]
  },
  {
   "cell_type": "markdown",
   "metadata": {},
   "source": [
    "La clave target_names proporciona los nombres de los grupos de noticias:"
   ]
  },
  {
   "cell_type": "code",
   "execution_count": 108,
   "metadata": {},
   "outputs": [
    {
     "data": {
      "text/plain": [
       "['alt.atheism',\n",
       " 'comp.graphics',\n",
       " 'comp.os.ms-windows.misc',\n",
       " 'comp.sys.ibm.pc.hardware',\n",
       " 'comp.sys.mac.hardware',\n",
       " 'comp.windows.x',\n",
       " 'misc.forsale',\n",
       " 'rec.autos',\n",
       " 'rec.motorcycles',\n",
       " 'rec.sport.baseball',\n",
       " 'rec.sport.hockey',\n",
       " 'sci.crypt',\n",
       " 'sci.electronics',\n",
       " 'sci.med',\n",
       " 'sci.space',\n",
       " 'soc.religion.christian',\n",
       " 'talk.politics.guns',\n",
       " 'talk.politics.mideast',\n",
       " 'talk.politics.misc',\n",
       " 'talk.religion.misc']"
      ]
     },
     "execution_count": 108,
     "metadata": {},
     "output_type": "execute_result"
    }
   ],
   "source": [
    "groups['target_names']"
   ]
  },
  {
   "cell_type": "markdown",
   "metadata": {},
   "source": [
    "La clave de destino corresponde a un grupo de noticias pero está codificada como un entero:"
   ]
  },
  {
   "cell_type": "code",
   "execution_count": 109,
   "metadata": {},
   "outputs": [
    {
     "data": {
      "text/plain": [
       "array([7, 4, 4, ..., 3, 1, 8])"
      ]
     },
     "execution_count": 109,
     "metadata": {},
     "output_type": "execute_result"
    }
   ],
   "source": [
    "groups.target"
   ]
  },
  {
   "cell_type": "markdown",
   "metadata": {},
   "source": [
    "Entonces, ¿cuáles son los valores distintos para estos enteros? Podemos usar la función única de NumPy para descubrirlo:"
   ]
  },
  {
   "cell_type": "code",
   "execution_count": 110,
   "metadata": {},
   "outputs": [
    {
     "data": {
      "text/plain": [
       "array([ 0,  1,  2,  3,  4,  5,  6,  7,  8,  9, 10, 11, 12, 13, 14, 15, 16,\n",
       "       17, 18, 19])"
      ]
     },
     "execution_count": 110,
     "metadata": {},
     "output_type": "execute_result"
    }
   ],
   "source": [
    "import numpy as np\n",
    "np.unique(groups.target)"
   ]
  },
  {
   "cell_type": "markdown",
   "metadata": {},
   "source": [
    "Ellos varían de 0 a 19, representando 20 temas."
   ]
  },
  {
   "cell_type": "code",
   "execution_count": 111,
   "metadata": {},
   "outputs": [
    {
     "data": {
      "text/plain": [
       "\"From: lerxst@wam.umd.edu (where's my thing)\\nSubject: WHAT car is this!?\\nNntp-Posting-Host: rac3.wam.umd.edu\\nOrganization: University of Maryland, College Park\\nLines: 15\\n\\n I was wondering if anyone out there could enlighten me on this car I saw\\nthe other day. It was a 2-door sports car, looked to be from the late 60s/\\nearly 70s. It was called a Bricklin. The doors were really small. In addition,\\nthe front bumper was separate from the rest of the body. This is \\nall I know. If anyone can tellme a model name, engine specs, years\\nof production, where this car is made, history, or whatever info you\\nhave on this funky looking car, please e-mail.\\n\\nThanks,\\n- IL\\n   ---- brought to you by your neighborhood Lerxst ----\\n\\n\\n\\n\\n\""
      ]
     },
     "execution_count": 111,
     "metadata": {},
     "output_type": "execute_result"
    }
   ],
   "source": [
    "groups.data[0] "
   ]
  },
  {
   "cell_type": "code",
   "execution_count": 112,
   "metadata": {},
   "outputs": [
    {
     "data": {
      "text/plain": [
       "7"
      ]
     },
     "execution_count": 112,
     "metadata": {},
     "output_type": "execute_result"
    }
   ],
   "source": [
    "groups.target[0]"
   ]
  },
  {
   "cell_type": "code",
   "execution_count": 113,
   "metadata": {},
   "outputs": [
    {
     "data": {
      "text/plain": [
       "'rec.autos'"
      ]
     },
     "execution_count": 113,
     "metadata": {},
     "output_type": "execute_result"
    }
   ],
   "source": [
    "groups.target_names[groups.target[0]]"
   ]
  },
  {
   "cell_type": "markdown",
   "metadata": {},
   "source": [
    "Entonces, el primer documento es del grupo de noticias rec.autos, al que se le asignó el número 7. Al leer esta publicación, podemos descubrir fácilmente que se trata de automóviles. La palabra auto aparece varias veces en el documento. Palabras como parachoques también parecen estar muy orientadas al automóvil. Sin embargo, las palabras como puertas pueden no estar necesariamente relacionadas con el automóvil, ya que también pueden tener que ver con mejoras en el hogar u otro tema. Como nota al margen, tiene sentido no distinguir entre puertas, puertas o la misma palabra con diferentes mayúsculas, como Puertas. Existen algunos casos raros en los que la capitalización sí importa, por ejemplo, estamos tratando de averiguar si un documento trata sobre la banda llamada La Puerta o el concepto más común, las puertas (en madera)."
   ]
  },
  {
   "cell_type": "markdown",
   "metadata": {},
   "source": [
    "Podemos concluir con seguridad que si queremos averiguar si un documento fue del grupo de noticias rec.autos, la presencia o ausencia de palabras como automóvil, puertas y parachoques pueden ser características muy útiles. Presencia o no es una variable booleana, y también podemos proponer mirar el recuento de ciertas palabras. Por ejemplo, el automóvil ocurre varias veces en el documento. Tal vez, cuantas más veces se encuentre esa palabra en un texto, más probable es que el documento tenga algo que ver con los automóviles. Esto nos lleva a otra cuestión de cuántas palabras hay en un documento. Podemos imaginar que los documentos varían en longitud y en la cantidad de veces que ocurre una palabra en particular. Obviamente, los textos más largos generalmente contienen más palabras y, por lo tanto, tenemos que compensar eso. Por ejemplo, las dos primeras publicaciones difieren en longitud:"
   ]
  },
  {
   "cell_type": "code",
   "execution_count": 114,
   "metadata": {},
   "outputs": [
    {
     "data": {
      "text/plain": [
       "721"
      ]
     },
     "execution_count": 114,
     "metadata": {},
     "output_type": "execute_result"
    }
   ],
   "source": [
    "len(groups.data[0])"
   ]
  },
  {
   "cell_type": "code",
   "execution_count": 115,
   "metadata": {},
   "outputs": [
    {
     "data": {
      "text/plain": [
       "858"
      ]
     },
     "execution_count": 115,
     "metadata": {},
     "output_type": "execute_result"
    }
   ],
   "source": [
    "len(groups.data[1])"
   ]
  },
  {
   "cell_type": "markdown",
   "metadata": {},
   "source": [
    "¿Qué tal secuencias de palabras? Por ejemplo, parachoques delantero, coche deportivo y especificaciones del motor. Estos parecen ser fuertes indicadores de un documento con tema de automóvil. Sin embargo, la palabra auto ocurrió con mucha más frecuencia que el auto deportivo.\n",
    "Además, la cantidad de bigramas en el documento es bastante grande en comparación con la cantidad de unigramas distintos. Tenemos los bigrams de este auto y el auto que busca, por ejemplo, que básicamente tienen el mismo valor de información en el contexto de la clasificación de grupos de noticias."
   ]
  },
  {
   "cell_type": "markdown",
   "metadata": {},
   "source": [
    "Aparentemente, algunas palabras simplemente no tienen mucho valor informativo. Las palabras que encontramos con mucha frecuencia en cualquier documento de todas las categorías, como a, the, y se llaman palabras de detención, y debemos ignorarlas. Parece que solo estamos interesados en la aparición de ciertas palabras, su conteo o una medida relacionada, y no en el orden de las palabras. Por lo tanto, podemos ver un texto como una bolsa de palabras. Esto se llama modelo de bolsa de palabras. Este es un modelo muy básico, pero funciona bastante bien en la práctica. Opcionalmente, podemos definir un modelo más complejo que tenga en cuenta el orden de las palabras y partes de las etiquetas de voz. Sin embargo, dicho modelo será más costoso computacionalmente y difícil de programar. Además, el modelo básico de bolsa de palabras en la mayoría de los casos es suficiente. ¿Tienes alguna duda? Podemos intentar visualizar cómo se distribuyen los unigramas y ver si el modelo de bolsa de palabras tiene sentido o no."
   ]
  },
  {
   "cell_type": "markdown",
   "metadata": {},
   "source": [
    "# Visualization\n",
    "\n",
    "Es bueno visualizar para tener una idea general de cómo se estructuran los datos, qué posibles problemas pueden surgir y si hay alguna irregularidad de la que tengamos que ocuparnos.\n",
    "\n",
    "En el contexto de múltiples temas o categorías, es importante saber cuál es la distribución de los temas. Una distribución de clase uniforme es la más fácil de manejar porque no hay categorías subrepresentadas o sobrerrepresentadas.\n",
    "Sin embargo, con frecuencia tenemos una distribución sesgada con una o más categorías dominantes. En este documento, utilizamos el paquete seaborn (https://seaborn.pydata.org/) para calcular el histograma de categorías y trazarlo utilizando el paquete matplotlib (https://matplotlib.org/). Podemos instalar ambos paquetes a través de pip. Ahora veamos la distribución de las clases de la siguiente manera:"
   ]
  },
  {
   "cell_type": "code",
   "execution_count": 116,
   "metadata": {},
   "outputs": [],
   "source": [
    "import seaborn as sns #pip install seaborn"
   ]
  },
  {
   "cell_type": "code",
   "execution_count": 117,
   "metadata": {},
   "outputs": [
    {
     "data": {
      "text/plain": [
       "<matplotlib.axes._subplots.AxesSubplot at 0x7f8a632dbcf8>"
      ]
     },
     "execution_count": 117,
     "metadata": {},
     "output_type": "execute_result"
    },
    {
     "data": {
      "image/png": "[encoded data removed]",
      "text/plain": [
       "<Figure size 432x288 with 1 Axes>"
      ]
     },
     "metadata": {
      "needs_background": "light"
     },
     "output_type": "display_data"
    }
   ],
   "source": [
    "sns.distplot(groups.target)\n"
   ]
  },
  {
   "cell_type": "code",
   "execution_count": 118,
   "metadata": {},
   "outputs": [],
   "source": [
    "import matplotlib.pyplot as plt\n",
    "plt.show()"
   ]
  },
  {
   "cell_type": "markdown",
   "metadata": {},
   "source": [
    "Como puede ver, la distribución es (aproximadamente) uniforme, por lo que es una cosa menos de qué preocuparse."
   ]
  },
  {
   "cell_type": "markdown",
   "metadata": {},
   "source": [
    "Los datos de texto que tratamos en el conjunto de datos de 20 grupos de noticias son de alta dimensión. Cada característica requiere una dimensión extra. Si usamos el recuento de palabras como características, tenemos tantas dimensiones como características interesantes. Para los recuentos de unigrama, utilizaremos la clase CountVectorizer, que se describe en la siguiente tabla:"
   ]
  },
  {
   "cell_type": "markdown",
   "metadata": {},
   "source": [
    "El siguiente código muestra un histograma de los 500 recuentos de palabras más altos:"
   ]
  },
  {
   "cell_type": "code",
   "execution_count": 119,
   "metadata": {},
   "outputs": [],
   "source": [
    "from sklearn.feature_extraction.text import CountVectorizer\n",
    "#import numpy as np\n",
    "#import matplotlib.pyplot as plt\n",
    "#import seaborn as sns\n",
    "#from sklearn.datasets import fetch_20newsgroups"
   ]
  },
  {
   "cell_type": "code",
   "execution_count": 120,
   "metadata": {},
   "outputs": [
    {
     "name": "stdout",
     "output_type": "stream",
     "text": [
      "['00', '000', '0d', '0t', '10', '100', '11', '12', '13', '14', '145', '15', '16', '17', '18', '19', '1993', '1d9', '20', '21', '22', '23', '24', '25', '26', '27', '28', '29', '30', '31', '32', '33', '34', '34u', '35', '40', '45', '50', '55', '80', '92', '93', '__', '___', 'a86', 'able', 'ac', 'access', 'actually', 'address', 'ago', 'agree', 'al', 'american', 'andrew', 'answer', 'anybody', 'apple', 'application', 'apr', 'april', 'area', 'argument', 'armenian', 'armenians', 'article', 'ask', 'asked', 'att', 'au', 'available', 'away', 'ax', 'b8f', 'bad', 'based', 'believe', 'berkeley', 'best', 'better', 'bible', 'big', 'bike', 'bit', 'black', 'board', 'body', 'book', 'box', 'buy', 'ca', 'california', 'called', 'came', 'canada', 'car', 'card', 'care', 'case', 'cause', 'cc', 'center', 'certain', 'certainly', 'change', 'check', 'children', 'chip', 'christ', 'christian', 'christians', 'church', 'city', 'claim', 'clinton', 'clipper', 'cmu', 'code', 'college', 'color', 'colorado', 'columbia', 'com', 'come', 'comes', 'company', 'computer', 'consider', 'contact', 'control', 'copy', 'correct', 'cost', 'country', 'couple', 'course', 'cs', 'current', 'cwru', 'data', 'dave', 'david', 'day', 'days', 'db', 'deal', 'death', 'department', 'dept', 'did', 'didn', 'difference', 'different', 'disk', 'display', 'distribution', 'division', 'dod', 'does', 'doesn', 'doing', 'don', 'dos', 'drive', 'driver', 'drivers', 'earth', 'edu', 'email', 'encryption', 'end', 'engineering', 'especially', 'evidence', 'exactly', 'example', 'experience', 'fact', 'faith', 'faq', 'far', 'fast', 'fax', 'feel', 'file', 'files', 'following', 'free', 'ftp', 'g9v', 'game', 'games', 'general', 'getting', 'given', 'gmt', 'god', 'going', 'good', 'got', 'gov', 'government', 'graphics', 'great', 'group', 'groups', 'guess', 'gun', 'guns', 'hand', 'hard', 'hardware', 'having', 'health', 'heard', 'hell', 'help', 'hi', 'high', 'history', 'hockey', 'home', 'hope', 'host', 'house', 'hp', 'human', 'ibm', 'idea', 'image', 'important', 'include', 'including', 'info', 'information', 'instead', 'institute', 'interested', 'internet', 'isn', 'israel', 'israeli', 'issue', 'james', 'jesus', 'jewish', 'jews', 'jim', 'john', 'just', 'keith', 'key', 'keys', 'keywords', 'kind', 'know', 'known', 'large', 'later', 'law', 'left', 'let', 'level', 'life', 'like', 'likely', 'line', 'lines', 'list', 'little', 'live', 'll', 'local', 'long', 'look', 'looking', 'lot', 'love', 'low', 'ma', 'mac', 'machine', 'mail', 'major', 'make', 'makes', 'making', 'man', 'mark', 'matter', 'max', 'maybe', 'mean', 'means', 'memory', 'men', 'message', 'michael', 'mike', 'mind', 'mit', 'money', 'mr', 'ms', 'na', 'nasa', 'national', 'need', 'net', 'netcom', 'network', 'new', 'news', 'newsreader', 'nice', 'nntp', 'non', 'note', 'number', 'numbers', 'office', 'oh', 'ohio', 'old', 'open', 'opinions', 'order', 'org', 'organization', 'original', 'output', 'package', 'paul', 'pay', 'pc', 'people', 'period', 'person', 'phone', 'pitt', 'pl', 'place', 'play', 'players', 'point', 'points', 'police', 'possible', 'post', 'posting', 'power', 'president', 'press', 'pretty', 'price', 'private', 'probably', 'problem', 'problems', 'program', 'programs', 'provide', 'pub', 'public', 'question', 'questions', 'quite', 'read', 'reading', 'real', 'really', 'reason', 'religion', 'remember', 'reply', 'research', 'right', 'rights', 'robert', 'run', 'running', 'said', 'sale', 'san', 'saw', 'say', 'saying', 'says', 'school', 'science', 'screen', 'scsi', 'season', 'second', 'security', 'seen', 'send', 'sense', 'server', 'service', 'services', 'set', 'similar', 'simple', 'simply', 'single', 'size', 'small', 'software', 'sorry', 'sort', 'sound', 'source', 'space', 'speed', 'st', 'standard', 'start', 'started', 'state', 'states', 'steve', 'stop', 'stuff', 'subject', 'summary', 'sun', 'support', 'sure', 'systems', 'talk', 'talking', 'team', 'technology', 'tell', 'test', 'text', 'thanks', 'thing', 'things', 'think', 'thought', 'time', 'times', 'today', 'told', 'took', 'toronto', 'tried', 'true', 'truth', 'try', 'trying', 'turkish', 'type', 'uiuc', 'uk', 'understand', 'university', 'unix', 'unless', 'usa', 'use', 'used', 'user', 'using', 'usually', 'uucp', 've', 'version', 'video', 'view', 'virginia', 'vs', 'want', 'wanted', 'war', 'washington', 'way', 'went', 'white', 'win', 'window', 'windows', 'won', 'word', 'words', 'work', 'working', 'works', 'world', 'wouldn', 'write', 'writes', 'wrong', 'wrote', 'year', 'years', 'yes', 'york']\n"
     ]
    }
   ],
   "source": [
    "cv = CountVectorizer(stop_words=\"english\", max_features=500)\n",
    "groups = fetch_20newsgroups()\n",
    "transformed = cv.fit_transform(groups.data)\n",
    "print(cv.get_feature_names())"
   ]
  },
  {
   "cell_type": "code",
   "execution_count": 121,
   "metadata": {},
   "outputs": [
    {
     "data": {
      "image/png": "[encoded data removed]",
      "text/plain": [
       "<Figure size 432x288 with 1 Axes>"
      ]
     },
     "metadata": {
      "needs_background": "light"
     },
     "output_type": "display_data"
    }
   ],
   "source": [
    "sns.distplot(np.log(transformed.toarray().sum(axis=0)))\n",
    "plt.xlabel('Log Count')\n",
    "plt.ylabel('Frequency')\n",
    "plt.title('Distribution Plot of 500 Word Counts')\n",
    "plt.show()"
   ]
  },
  {
   "cell_type": "markdown",
   "metadata": {},
   "source": [
    "Este es nuestro primer rastro de obtener la lista de las 500 palabras principales con el objetivo de las características más indicativas. No se ve perfecto. ¿Podemos mejorarlo? Sí, mediante las técnicas de preprocesamiento de datos en la siguiente sección."
   ]
  },
  {
   "cell_type": "markdown",
   "metadata": {},
   "source": [
    "# Data preprocessing\n",
    "\n",
    "Vemos elementos, que obviamente no son palabras, como 00 y 000. Tal vez deberíamos ignorar los elementos que contienen solo dígitos. Sin embargo, 0d y 0t tampoco son palabras. También vemos elementos como __, por lo que tal vez solo deberíamos permitir elementos que constan solo de letras. Las publicaciones contienen nombres como Andrew también. Podemos filtrar nombres con el corpus de nombres de NLTK con el que acabamos de trabajar. Por supuesto, con cada filtrado que apliquemos, debemos asegurarnos de no perder\n",
    "información. Finalmente, vemos palabras que son muy similares, como intentar y tratar, y palabra y palabras.\n",
    "\n",
    "Tenemos dos estrategias básicas para tratar palabras de la misma raíz: derivación y lematización. Stemming es el enfoque de tipo más rápido y sucio. Se trata de cortar, si es necesario, las letras, por ejemplo, 'palabras' se convierte en 'palabra' después de la derivación. El resultado de la derivación no tiene que ser una palabra válida. La lematización, por otro lado, es más lenta pero más precisa.\n",
    "Lemmatizing realiza una búsqueda en el diccionario y garantiza la devolución de una palabra válida a menos que comencemos con una palabra no válida. \n",
    "\n",
    "Reutilicemos el código de la sección anterior para obtener las 500 palabras con los recuentos más altos, pero esta vez, aplicaremos el filtrado: Debemos de descargar los nombres de NLTK con los comandos import nltk y nltk.download('names')"
   ]
  },
  {
   "cell_type": "code",
   "execution_count": 122,
   "metadata": {},
   "outputs": [],
   "source": [
    "from sklearn.feature_extraction.text import CountVectorizer\n",
    "from sklearn.datasets import fetch_20newsgroups\n",
    "from nltk.corpus import names\n",
    "from nltk.stem import WordNetLemmatizer"
   ]
  },
  {
   "cell_type": "code",
   "execution_count": 123,
   "metadata": {},
   "outputs": [],
   "source": [
    "def letters_only(astr):\n",
    "    return astr.isalpha()\n",
    "\n",
    "cv = CountVectorizer(stop_words=\"english\", max_features=500)\n",
    "groups = fetch_20newsgroups()\n",
    "cleaned = []\n",
    "all_names = set(names.words())\n",
    "lemmatizer = WordNetLemmatizer()\n"
   ]
  },
  {
   "cell_type": "code",
   "execution_count": 124,
   "metadata": {},
   "outputs": [
    {
     "name": "stderr",
     "output_type": "stream",
     "text": [
      "[nltk_data] Downloading package wordnet to /home/echartea/nltk_data...\n",
      "[nltk_data]   Package wordnet is already up-to-date!\n"
     ]
    },
    {
     "data": {
      "text/plain": [
       "True"
      ]
     },
     "execution_count": 124,
     "metadata": {},
     "output_type": "execute_result"
    }
   ],
   "source": [
    "import nltk\n",
    "nltk.download('wordnet')"
   ]
  },
  {
   "cell_type": "code",
   "execution_count": 125,
   "metadata": {},
   "outputs": [],
   "source": [
    "for post in groups.data:\n",
    "    for word in post.split():\n",
    "        if letters_only(word) and word not in all_names:\n",
    "            cleaned.append(' '.join([lemmatizer.lemmatize(word.lower())]))"
   ]
  },
  {
   "cell_type": "code",
   "execution_count": 126,
   "metadata": {},
   "outputs": [],
   "source": [
    "transformed = cv.fit_transform(cleaned)\n"
   ]
  },
  {
   "cell_type": "code",
   "execution_count": 127,
   "metadata": {},
   "outputs": [
    {
     "name": "stdout",
     "output_type": "stream",
     "text": [
      "['able', 'accept', 'access', 'according', 'act', 'action', 'actually', 'add', 'address', 'ago', 'agree', 'algorithm', 'allow', 'american', 'anonymous', 'answer', 'anybody', 'apple', 'application', 'apr', 'arab', 'area', 'argument', 'armenian', 'article', 'ask', 'asked', 'assume', 'atheist', 'attack', 'attempt', 'available', 'away', 'bad', 'based', 'basic', 'belief', 'believe', 'best', 'better', 'bible', 'big', 'bike', 'bit', 'black', 'board', 'body', 'book', 'box', 'build', 'bus', 'business', 'buy', 'ca', 'california', 'called', 'came', 'car', 'card', 'care', 'carry', 'case', 'cause', 'center', 'certain', 'certainly', 'chance', 'change', 'check', 'child', 'chip', 'christian', 'church', 'city', 'claim', 'clear', 'clipper', 'code', 'college', 'color', 'come', 'coming', 'command', 'comment', 'common', 'communication', 'company', 'computer', 'computing', 'consider', 'considered', 'contact', 'control', 'controller', 'copy', 'correct', 'cost', 'country', 'couple', 'course', 'cover', 'create', 'crime', 'current', 'cut', 'data', 'day', 'db', 'deal', 'death', 'department', 'design', 'device', 'did', 'difference', 'different', 'discussion', 'disk', 'display', 'division', 'dod', 'doe', 'doing', 'drive', 'driver', 'drug', 'early', 'earth', 'easy', 'effect', 'email', 'encryption', 'end', 'engineering', 'entry', 'error', 'especially', 'event', 'evidence', 'exactly', 'example', 'expect', 'experience', 'explain', 'face', 'fact', 'faq', 'far', 'fast', 'federal', 'feel', 'figure', 'file', 'final', 'following', 'food', 'force', 'form', 'free', 'friend', 'ftp', 'function', 'game', 'general', 'getting', 'given', 'gmt', 'goal', 'god', 'going', 'good', 'got', 'government', 'graphic', 'great', 'greek', 'ground', 'group', 'guess', 'gun', 'guy', 'ha', 'hand', 'hard', 'hardware', 'having', 'head', 'health', 'hear', 'heard', 'hell', 'help', 'high', 'history', 'hit', 'hockey', 'hold', 'home', 'hope', 'house', 'human', 'ibm', 'idea', 'image', 'important', 'include', 'includes', 'including', 'individual', 'info', 'information', 'instead', 'institute', 'interested', 'interesting', 'international', 'internet', 'israeli', 'issue', 'jew', 'jewish', 'job', 'just', 'key', 'kill', 'killed', 'kind', 'know', 'known', 'la', 'large', 'later', 'law', 'le', 'lead', 'league', 'left', 'let', 'level', 'life', 'light', 'like', 'likely', 'line', 'list', 'little', 'live', 'local', 'long', 'longer', 'look', 'looking', 'lost', 'lot', 'love', 'low', 'machine', 'mail', 'main', 'major', 'make', 'making', 'man', 'manager', 'matter', 'maybe', 'mean', 'medical', 'member', 'memory', 'men', 'message', 'method', 'military', 'million', 'mind', 'mode', 'model', 'money', 'monitor', 'month', 'moral', 'mouse', 'muslim', 'na', 'nasa', 'national', 'near', 'need', 'needed', 'network', 'new', 'news', 'nice', 'north', 'note', 'number', 'offer', 'office', 'old', 'open', 'opinion', 'order', 'original', 'output', 'package', 'particular', 'past', 'pay', 'pc', 'people', 'period', 'person', 'personal', 'phone', 'place', 'play', 'player', 'point', 'police', 'policy', 'political', 'position', 'possible', 'post', 'posted', 'posting', 'power', 'president', 'press', 'pretty', 'previous', 'price', 'private', 'probably', 'problem', 'product', 'program', 'project', 'provide', 'public', 'purpose', 'question', 'quite', 'radio', 'rate', 'read', 'reading', 'real', 'really', 'reason', 'recently', 'reference', 'religion', 'religious', 'remember', 'reply', 'report', 'research', 'response', 'rest', 'result', 'return', 'right', 'road', 'rule', 'run', 'running', 'russian', 'said', 'sale', 'san', 'save', 'saw', 'say', 'saying', 'school', 'science', 'screen', 'scsi', 'second', 'section', 'security', 'seen', 'sell', 'send', 'sense', 'sent', 'serial', 'server', 'service', 'set', 'shall', 'short', 'shot', 'similar', 'simple', 'simply', 'single', 'site', 'situation', 'size', 'small', 'software', 'sort', 'sound', 'source', 'space', 'special', 'specific', 'speed', 'standard', 'start', 'started', 'state', 'statement', 'stop', 'strong', 'study', 'stuff', 'subject', 'sun', 'support', 'sure', 'taken', 'taking', 'talk', 'talking', 'tape', 'tax', 'team', 'technical', 'technology', 'tell', 'term', 'test', 'texas', 'text', 'thanks', 'thing', 'think', 'thinking', 'thought', 'time', 'tin', 'today', 'told', 'took', 'total', 'tried', 'true', 'truth', 'try', 'trying', 'turkish', 'turn', 'type', 'understand', 'unit', 'united', 'university', 'unix', 'unless', 'usa', 'use', 'used', 'user', 'using', 'usually', 'value', 'various', 'version', 'video', 'view', 'wa', 'want', 'wanted', 'war', 'water', 'way', 'weapon', 'week', 'went', 'western', 'white', 'widget', 'willing', 'win', 'window', 'woman', 'word', 'work', 'working', 'world', 'write', 'written', 'wrong', 'year', 'york', 'young']\n"
     ]
    }
   ],
   "source": [
    "print(cv.get_feature_names())"
   ]
  },
  {
   "cell_type": "markdown",
   "metadata": {},
   "source": [
    "Esta lista parece ser mucho más limpia. También podemos decidir usar solo sustantivos u otra parte del discurso como alternativa."
   ]
  },
  {
   "cell_type": "markdown",
   "metadata": {},
   "source": [
    "# Clustering"
   ]
  },
  {
   "cell_type": "markdown",
   "metadata": {},
   "source": [
    "El agrupamiento divide un conjunto de datos en grupos. Esta es una tarea de aprendizaje no supervisada, ya que generalmente no tenemos etiquetas. En los casos más realistas, la complejidad es tan alta que no podemos encontrar la mejor división en grupos;\n",
    "sin embargo, generalmente podemos encontrar una aproximación decente. La tarea de análisis de agrupamiento requiere una función de distancia, que indica qué tan cerca están los elementos entre sí. Una distancia común es la distancia euclidiana, que es la distancia que vuela un pájaro. Otra distancia común es la distancia en taxi, que mide la distancia en cuadras de la ciudad. La agrupación se usó por primera vez en la década de 1930 por investigadores de ciencias sociales sin computadoras modernas.\n",
    "\n",
    "La agrupación puede ser dura o blanda. En la agrupación rígida, un elemento pertenece solo a un grupo, mientras que en la agrupación flexible, un elemento puede pertenecer a múltiples agrupaciones con diferentes probabilidades. En ocacion he usado solo el método de agrupamiento duro.\n",
    "\n",
    "También podemos tener elementos que no pertenecen a ningún clúster. Estos elementos se consideran valores atípicos de anomalías o simplemente ruido. Un clúster también puede ser parte de otro clúster, que también puede ser un elemento en otro clúster de nivel superior. Si tenemos una jerarquía de clústeres, hablamos de una agrupación jerárquica. Hay más de 100 algoritmos de agrupamiento, el más utilizado es el algoritmo k-means. La agrupación k-means asigna puntos de datos a k agrupaciones. El problema de la agrupación no se puede resolver directamente, pero podemos aplicar heurísticas, que logran un resultado aceptable. El algoritmo k-means intenta encontrar los mejores grupos para un conjunto de datos, dada una cantidad de grupos."
   ]
  },
  {
   "cell_type": "markdown",
   "metadata": {},
   "source": [
    "Se supone que debemos conocer este número o encontrarlo a través de prueba y error. En esta receta, evalúo los grupos a través del método Dentro de la suma de errores al cuadrado (WSSSE), también conocido como Dentro de la suma de cuadrados al cuadrado (WCSS). Esta métrica calcula la suma de\n",
    "El error al cuadrado de la distancia entre cada punto y el centroide de su grupo asignado. El algoritmo para k-means itera entre dos pasos, sin incluir la inicialización (generalmente aleatoria) de k-centroides:\n",
    "\n",
    "1. Asigne a cada punto de datos un grupo con la distancia más baja.\n",
    "2. Vuelva a calcular el centro del grupo como la media de las coordenadas de los puntos del grupo.\n",
    "\n",
    "El algoritmo se detiene cuando las asignaciones de clúster se vuelven estables.\n",
    "\n",
    "\n",
    "La complejidad promedio viene dada por O (k n T), donde k es el número de grupos, n es el número de muestras y T es el número de iteraciones. El siguiente código aplica la agrupación y muestra un diagrama de dispersión de las etiquetas reales y las etiquetas de agrupación:"
   ]
  },
  {
   "cell_type": "code",
   "execution_count": 128,
   "metadata": {},
   "outputs": [],
   "source": [
    "from sklearn.feature_extraction.text import CountVectorizer\n",
    "from sklearn.datasets import fetch_20newsgroups\n",
    "from nltk.corpus import names\n",
    "from nltk.stem import WordNetLemmatizer\n",
    "from sklearn.cluster import KMeans\n",
    "import matplotlib.pyplot as plt"
   ]
  },
  {
   "cell_type": "code",
   "execution_count": 129,
   "metadata": {},
   "outputs": [],
   "source": [
    "def letters_only(astr):\n",
    "    return astr.isalpha()"
   ]
  },
  {
   "cell_type": "code",
   "execution_count": 130,
   "metadata": {},
   "outputs": [],
   "source": [
    "cv = CountVectorizer(stop_words=\"english\", max_features=500)\n",
    "groups = fetch_20newsgroups()\n",
    "cleaned = []\n",
    "all_names = set(names.words())\n",
    "lemmatizer = WordNetLemmatizer()"
   ]
  },
  {
   "cell_type": "code",
   "execution_count": 131,
   "metadata": {},
   "outputs": [],
   "source": [
    "for post in groups.data:\n",
    "    cleaned.append(' '.join([\n",
    "    lemmatizer.lemmatize(word.lower())\n",
    "    for word in post.split()\n",
    "    if letters_only(word)\n",
    "    and word not in all_names]))"
   ]
  },
  {
   "cell_type": "code",
   "execution_count": 132,
   "metadata": {},
   "outputs": [],
   "source": [
    "transformed = cv.fit_transform(cleaned)\n",
    "km = KMeans(n_clusters=20)\n",
    "km.fit(transformed)\n",
    "labels = groups.target\n"
   ]
  },
  {
   "cell_type": "code",
   "execution_count": 134,
   "metadata": {},
   "outputs": [
    {
     "data": {
      "image/png": "[encoded data removed]",
      "text/plain": [
       "<Figure size 432x288 with 1 Axes>"
      ]
     },
     "metadata": {
      "needs_background": "light"
     },
     "output_type": "display_data"
    }
   ],
   "source": [
    "\n",
    "#print(len(labels))\n",
    "#print(len(km.labels_))\n",
    "plt.scatter(labels, km.labels_)\n",
    "plt.xlabel('Newsgroup')\n",
    "plt.ylabel('Cluster')\n",
    "plt.show()"
   ]
  },
  {
   "cell_type": "markdown",
   "metadata": {},
   "source": [
    "# Topic modeling\n",
    "\n",
    "Los temas del procesamiento del lenguaje natural no coinciden exactamente con la definición del diccionario y corresponden a un concepto estadístico más nebuloso. Hablamos de modelos de tema y distribuciones de probabilidad de palabras vinculadas a temas, tal como los conocemos. Cuando leemos un texto, esperamos que ciertas palabras que aparecen en el título o el cuerpo del texto capturen el contexto semántico del documento. Un artículo sobre programación en Python tendrá palabras como clase y función, mientras que una historia sobre serpientes tendrá palabras como huevos y miedo. Los documentos generalmente tienen múltiples temas, por ejemplo, esta receta trata sobre modelos de temas y factorización de matriz no negativa, que discutiremos en breve. Por lo tanto, podemos definir un modelo aditivo para los temas asignando diferentes pesos a los temas.\n",
    "\n",
    "Uno de los algoritmos de modelado del tema es la factorización matricial no negativa (NMF). Este algoritmo factoriza una matriz en un producto de dos matrices más pequeñas de tal manera que las tres matrices no tienen valores negativos. Por lo general, solo podemos aproximar numéricamente la solución de la factorización, y la complejidad temporal es polinómica. La clase NMF scikit-learn implementa este algoritmo, como se muestra en la siguiente tabla:\n",
    "\n",
    "NMF también se puede aplicar a la agrupación de documentos y al procesamiento de señales, como se muestra en el siguiente código:"
   ]
  },
  {
   "cell_type": "code",
   "execution_count": 135,
   "metadata": {},
   "outputs": [],
   "source": [
    "from sklearn.feature_extraction.text import CountVectorizer\n",
    "from sklearn.datasets import fetch_20newsgroups\n",
    "from nltk.corpus import names\n",
    "from nltk.stem import WordNetLemmatizer\n",
    "from sklearn.decomposition import NMF\n",
    "def letters_only(astr):\n",
    "    return astr.isalpha()\n",
    "\n",
    "cv = CountVectorizer(stop_words=\"english\", max_features=500)\n",
    "groups = fetch_20newsgroups()\n",
    "cv = CountVectorizer(stop_words=\"english\", max_features=500)\n",
    "groups = fetch_20newsgroups()\n",
    "cleaned = []\n",
    "all_names = set(names.words())\n",
    "lemmatizer = WordNetLemmatizer()\n",
    "\n",
    "\n",
    "for post in groups.data:\n",
    "    cleaned.append(' '.join([\n",
    "    lemmatizer.lemmatize(word.lower())\n",
    "    for word in post.split()\n",
    "    if letters_only(word)\n",
    "    and word not in all_names]))\n",
    "    \n"
   ]
  },
  {
   "cell_type": "code",
   "execution_count": 137,
   "metadata": {},
   "outputs": [
    {
     "name": "stdout",
     "output_type": "stream",
     "text": [
      "0:  wa thought later took left order seen taken\n",
      "1:  db bit data place stuff add time line\n",
      "2:  server using display screen support code mouse application\n",
      "3:  file section information write source change entry number\n",
      "4:  disk drive hard controller support card board head\n",
      "5:  entry rule program source number info email build\n",
      "6:  new york sale change service result study early\n",
      "7:  image software user package using display include support\n",
      "8:  window manager application using offer user information course\n",
      "9:  gun united control house american second national issue\n",
      "10:  hockey league team game division player list san\n",
      "11:  turkish government sent war study came american world\n",
      "12:  program change technology display information version application rate\n",
      "13:  space nasa technology service national international small communication\n",
      "14:  government political federal sure free private local country\n",
      "15:  output line open write read return build section\n",
      "16:  people country doing tell live killed lot saying\n",
      "17:  widget application value set type return function list\n",
      "18:  child case rate le report area research group\n",
      "19:  jew jewish world war history help research arab\n",
      "20:  armenian russian muslim turkish world city road today\n",
      "21:  president said group tax press working package job\n",
      "22:  ground box usually power code current house white\n",
      "23:  russian president american support food money important private\n",
      "24:  ibm color week memory hardware monitor software standard\n",
      "25:  anonymous posting service server user group message post\n",
      "26:  la win san went list year radio near\n",
      "27:  work job young school lot private create business\n",
      "28:  encryption technology access device policy security government data\n",
      "29:  tape driver work memory using cause note following\n",
      "30:  war military world attack way united russian force\n",
      "31:  god bible shall man come life hell love\n",
      "32:  atheist religious religion belief god sort feel idea\n",
      "33:  data available information user research set model based\n",
      "34:  center research medical institute national study test north\n",
      "35:  think lot try trying talk kind agree certainly\n",
      "36:  water city division list public similar north high\n",
      "37:  section military shall weapon person division application mean\n",
      "38:  good cover great pretty probably bad issue life\n",
      "39:  drive head single mode set using model type\n",
      "40:  israeli arab attack policy true apr fact stop\n",
      "41:  use note using usually similar available standard work\n",
      "42:  know tell way come sure understand let saw\n",
      "43:  car speed driver change high buy different design\n",
      "44:  internet email address information anonymous user network mail\n",
      "45:  like look sound long little guy pretty having\n",
      "46:  going come way mean kind sure working got\n",
      "47:  state united public national political federal member local\n",
      "48:  dod bike member computer list started live email\n",
      "49:  greek killed act word western muslim turkish talk\n",
      "50:  computer information public internet list issue network communication\n",
      "51:  law act federal specific issue clear order moral\n",
      "52:  book read reference list copy second study offer\n",
      "53:  argument form true evidence event truth particular known\n",
      "54:  make sense difference little sure making end tell\n",
      "55:  scsi hard pc drive device bus different data\n",
      "56:  time long having able lot order light response\n",
      "57:  gun rate crime city death study control difference\n",
      "58:  right second free shall security mean left american\n",
      "59:  went came said told started saw took woman\n",
      "60:  power period second san special le play goal\n",
      "61:  used using product way function version note single\n",
      "62:  problem work having using help apple running error\n",
      "63:  available version widget server includes sun set support\n",
      "64:  question answer ask asked science reason claim post\n",
      "65:  san information police said group league political including\n",
      "66:  number serial large men report following million le\n",
      "67:  year ago old best sale hit long project\n",
      "68:  want help let life reason trying copy tell\n",
      "69:  point way different line algorithm exactly idea view\n",
      "70:  run running home version start hit win speed\n",
      "71:  got shot play took goal went hit lead\n",
      "72:  thing saw sure got trying kind seen asked\n",
      "73:  graphic send mail message package server various computer\n",
      "74:  university science department general computer thanks engineering texas\n",
      "75:  just maybe start thought big probably look getting\n",
      "76:  key message public security algorithm standard method attack\n",
      "77:  doe mean anybody actually different ask reading difference\n",
      "78:  game win sound play left second lead great\n",
      "79:  ha able called taken given past exactly looking\n",
      "80:  believe belief christian truth evidence claim mean different\n",
      "81:  drug study information war group reason usa evidence\n",
      "82:  need help phone able needed kind thanks bike\n",
      "83:  did death let money fact man wanted body\n",
      "84:  chip clipper serial algorithm phone communication encryption key\n",
      "85:  card driver video support mode mouse board bus\n",
      "86:  church christian member group true bible different view\n",
      "87:  ftp available anonymous general nasa package source version\n",
      "88:  better player best play probably hit maybe big\n",
      "89:  human life person moral kill claim reason world\n",
      "90:  bit using let change mode attack size quite\n",
      "91:  say mean word act clear said read simply\n",
      "92:  health medical public national care study service user\n",
      "93:  article post usa read world discussion opinion gmt\n",
      "94:  team player win play city look bad great\n",
      "95:  day come word christian said tell little way\n",
      "96:  really lot sure look fact idea actually feel\n",
      "97:  unit disk size serial total national got return\n",
      "98:  image color version free available display current better\n",
      "99:  woman men muslim religion way man great world\n"
     ]
    }
   ],
   "source": [
    "    \n",
    "transformed = cv.fit_transform(cleaned)\n",
    "nmf = NMF(n_components=100, random_state=43).fit(transformed)\n",
    "for topic_idx, topic in enumerate(nmf.components_):\n",
    "    label = '{}: '.format(topic_idx)\n",
    "    print(label, \" \".join([cv.get_feature_names()[i]\n",
    "        for i in topic.argsort()[:-9:-1]]))"
   ]
  },
  {
   "cell_type": "markdown",
   "metadata": {},
   "source": [
    "En este capítulo, adquirimos los conceptos fundamentales de PNL como un subcampo importante en el aprendizaje automático, incluida la tokenización, la derivación y la lematización, el etiquetado POS. También exploramos tres poderosos paquetes de PNL y realizamos algunas tareas comunes usando NLTK. Luego continuamos con el modelado de temas de los grupos de noticias del proyecto principal. Comenzamos con la extracción de características con técnicas de tokenización, así como la derivación y la lematización. Luego pasamos por la agrupación e implementaciones de la agrupación k-means y la factorización de matriz no negativa para el modelado de temas. Adquirimos experiencia práctica al trabajar con datos de texto y abordar problemas de modelado de temas de una manera de aprendizaje sin supervisión. Mencionamos brevemente los recursos corporales disponibles en NLTK. Sería una gran idea aplicar lo que hemos aprendido en algunos de los corpus. ¿Qué temas puedes extraer del corpus de Shakespeare?"
   ]
  },
  {
   "cell_type": "code",
   "execution_count": null,
   "metadata": {},
   "outputs": [],
   "source": []
  }
 ],
 "metadata": {
  "kernelspec": {
   "display_name": "Python 3",
   "language": "python",
   "name": "python3"
  },
  "language_info": {
   "codemirror_mode": {
    "name": "ipython",
    "version": 3
   },
   "file_extension": ".py",
   "mimetype": "text/x-python",
   "name": "python",
   "nbconvert_exporter": "python",
   "pygments_lexer": "ipython3",
   "version": "3.6.9"
  }
 },
 "nbformat": 4,
 "nbformat_minor": 4
}
