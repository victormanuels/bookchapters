{
 "cells": [
  {
   "cell_type": "markdown",
   "metadata": {},
   "source": [
    "# Click-Through Prediction with Logistic Regression"
   ]
  },
  {
   "cell_type": "markdown",
   "metadata": {},
   "source": [
    "A continuacion se muestra un ejemplo de como convertir **caracteristicas categoricas a caracteristiacas numericas**."
   ]
  },
  {
   "cell_type": "code",
   "execution_count": 18,
   "metadata": {},
   "outputs": [
    {
     "name": "stdout",
     "output_type": "stream",
     "text": [
      "[[0. 0. 1. 1. 0. 0.]\n",
      " [1. 0. 0. 0. 0. 1.]\n",
      " [1. 0. 0. 1. 0. 0.]\n",
      " [0. 1. 0. 0. 0. 1.]\n",
      " [0. 0. 1. 0. 0. 1.]\n",
      " [0. 0. 1. 0. 1. 0.]\n",
      " [0. 1. 0. 1. 0. 0.]]\n"
     ]
    }
   ],
   "source": [
    "from sklearn.feature_extraction import DictVectorizer\n",
    "X_dict = [{'interest': 'tech', 'occupation': 'professional'},\n",
    "          {'interest': 'fashion', 'occupation': 'student'},\n",
    "          {'interest': 'fashion','occupation':'professional'},\n",
    "          {'interest': 'sports', 'occupation': 'student'},\n",
    "          {'interest': 'tech', 'occupation': 'student'},\n",
    "          {'interest': 'tech', 'occupation': 'retired'},\n",
    "          {'interest': 'sports','occupation': 'professional'}]\n",
    "dict_one_hot_encoder = DictVectorizer(sparse=False)\n",
    "X_encoded = dict_one_hot_encoder.fit_transform(X_dict)\n",
    "print(X_encoded)"
   ]
  },
  {
   "cell_type": "markdown",
   "metadata": {},
   "source": [
    "También podemos ver el mapeo usando lo siguiente:"
   ]
  },
  {
   "cell_type": "code",
   "execution_count": 19,
   "metadata": {},
   "outputs": [
    {
     "name": "stdout",
     "output_type": "stream",
     "text": [
      "{'interest=tech': 2, 'occupation=professional': 3, 'interest=fashion': 0, 'occupation=student': 5, 'interest=sports': 1, 'occupation=retired': 4}\n"
     ]
    }
   ],
   "source": [
    "print(dict_one_hot_encoder.vocabulary_)"
   ]
  },
  {
   "cell_type": "markdown",
   "metadata": {},
   "source": [
    "Cuando se trata de datos nuevos, podemos transformarlos usando el siguiente código:"
   ]
  },
  {
   "cell_type": "code",
   "execution_count": 20,
   "metadata": {},
   "outputs": [
    {
     "name": "stdout",
     "output_type": "stream",
     "text": [
      "[[0. 1. 0. 0. 1. 0.]]\n"
     ]
    }
   ],
   "source": [
    "new_dict = [{'interest': 'sports', 'occupation': 'retired'}]\n",
    "new_encoded = dict_one_hot_encoder.transform(new_dict)\n",
    "print(new_encoded)"
   ]
  },
  {
   "cell_type": "markdown",
   "metadata": {},
   "source": [
    "Y podemos transformar inversamente las características codificadas a las características originales de la siguiente manera:"
   ]
  },
  {
   "cell_type": "code",
   "execution_count": 21,
   "metadata": {},
   "outputs": [
    {
     "name": "stdout",
     "output_type": "stream",
     "text": [
      "[{'interest=sports': 1.0, 'occupation=retired': 1.0}]\n"
     ]
    }
   ],
   "source": [
    "print(dict_one_hot_encoder.inverse_transform(new_encoded))"
   ]
  },
  {
   "cell_type": "markdown",
   "metadata": {},
   "source": [
    "En cuanto a las características en el formato de los objetos de cadena, podemos usar LabelEncoder fromscikit-learn para convertir una característica categórica en una característica entera con valores de 1 a k primero, y luego convertir la característica entera en k características codificadas en binario. Use la misma muestra:"
   ]
  },
  {
   "cell_type": "code",
   "execution_count": 22,
   "metadata": {},
   "outputs": [
    {
     "name": "stdout",
     "output_type": "stream",
     "text": [
      "[[5 1]\n",
      " [0 4]\n",
      " [0 1]\n",
      " [3 4]\n",
      " [5 4]\n",
      " [5 2]\n",
      " [3 1]]\n"
     ]
    }
   ],
   "source": [
    "import numpy as np\n",
    "X_str = np.array([['tech', 'professional'],\n",
    "                  ['fashion', 'student'],\n",
    "                  ['fashion', 'professional'],\n",
    "                  ['sports', 'student'],\n",
    "                  ['tech', 'student'],\n",
    "                  ['tech', 'retired'],\n",
    "                  ['sports', 'professional']])\n",
    "from sklearn.preprocessing import LabelEncoder, OneHotEncoder\n",
    "label_encoder = LabelEncoder()\n",
    "X_int =label_encoder.fit_transform(X_str.ravel()).reshape(*X_str.shape)\n",
    "print(X_int)"
   ]
  },
  {
   "cell_type": "code",
   "execution_count": 23,
   "metadata": {},
   "outputs": [
    {
     "name": "stdout",
     "output_type": "stream",
     "text": [
      "[[0. 0. 1. 1. 0. 0.]\n",
      " [1. 0. 0. 0. 0. 1.]\n",
      " [1. 0. 0. 1. 0. 0.]\n",
      " [0. 1. 0. 0. 0. 1.]\n",
      " [0. 0. 1. 0. 0. 1.]\n",
      " [0. 0. 1. 0. 1. 0.]\n",
      " [0. 1. 0. 1. 0. 0.]]\n"
     ]
    }
   ],
   "source": [
    "one_hot_encoder = OneHotEncoder()\n",
    "X_encoded = one_hot_encoder.fit_transform(X_int).toarray()\n",
    "print(X_encoded)"
   ]
  },
  {
   "cell_type": "markdown",
   "metadata": {},
   "source": [
    "Una última cosa a tener en cuenta es que si se encuentra una nueva categoría (que no se ve en los datos de entrenamiento) en los nuevos datos, debe ignorarse. DictVectorizer maneja esto en silencio:"
   ]
  },
  {
   "cell_type": "code",
   "execution_count": 24,
   "metadata": {},
   "outputs": [
    {
     "name": "stdout",
     "output_type": "stream",
     "text": [
      "[[0. 0. 0. 0. 1. 0.]\n",
      " [0. 0. 1. 0. 0. 0.]]\n"
     ]
    }
   ],
   "source": [
    "new_dict = [{'interest': 'unknown_interest','occupation': 'retired'},\n",
    "            {'interest': 'tech', 'occupation':'unseen_occupation'}]\n",
    "new_encoded = dict_one_hot_encoder.transform(new_dict)\n",
    "print(new_encoded)"
   ]
  },
  {
   "cell_type": "markdown",
   "metadata": {},
   "source": [
    "Sin embargo, a diferencia de DictVectorizer, LabelEncoder no maneja implícitamente una categoría no vista. La forma más fácil de evitar esto es convertir los datos de cadena en un objeto de diccionario para aplicar DictVectorizer. Primero definimos la función de transformación:"
   ]
  },
  {
   "cell_type": "code",
   "execution_count": 25,
   "metadata": {},
   "outputs": [],
   "source": [
    "def string_to_dict(columns, data_str):\n",
    "    columns = ['interest', 'occupation']\n",
    "    data_dict = []\n",
    "    for sample_str in data_str:\n",
    "        data_dict.append({column: value for column, value in zip(columns, sample_str)})\n",
    "        \n",
    "    return data_dict\n"
   ]
  },
  {
   "cell_type": "markdown",
   "metadata": {},
   "source": [
    "Convierta los nuevos datos y emplear DictVectorizer"
   ]
  },
  {
   "cell_type": "code",
   "execution_count": 26,
   "metadata": {},
   "outputs": [
    {
     "name": "stdout",
     "output_type": "stream",
     "text": [
      "[[0. 0. 0. 0. 1. 0.]\n",
      " [0. 0. 1. 0. 0. 0.]\n",
      " [0. 0. 0. 0. 0. 0.]]\n"
     ]
    }
   ],
   "source": [
    "new_str = np.array([['unknown_interest', 'retired'],\n",
    "                    ['tech', 'unseen_occupation'],\n",
    "                    ['unknown_interest', 'unseen_occupation']])\n",
    "columns = ['interest', 'occupation']\n",
    "new_encoded = dict_one_hot_encoder.transform(string_to_dict(columns, new_str))\n",
    "print(new_encoded)"
   ]
  },
  {
   "cell_type": "markdown",
   "metadata": {},
   "source": [
    "# Logistic regression classifier\n",
    "\n",
    "Recordemos en el último capítulo, capacitamos a los modelos basados en árboles solo en base a las primeras 100,000 muestras de 40 millones. Lo hicimos porque entrenar un árbol en un conjunto de datos de gran tamaño es extremadamente costoso desde el punto de vista informático y requiere mucho tiempo. Dado que ahora no estamos limitados a algoritmos que incorporan directamente características categóricas gracias a la codificación única, deberíamos recurrir a un nuevo algoritmo con alta escalabilidad a conjuntos de datos grandes. La regresión logística es uno de los algoritmos de clasificación más escalables.\n",
    "\n",
    "# Getting started with the logistic function\n",
    "\n",
    "Comencemos con la introducción de la función logística (que se denomina más comúnmente función sigmoidea) como el núcleo del algoritmo antes de sumergirnos en el algoritmo mismo. Básicamente, asigna una entrada a una salida de valores entre 0 y 1. Y se define de la siguiente manera:\n",
    "\n",
    "$y(z)=\\frac{1}{1+exp(-z)}$\n",
    "\n",
    "lo podemos visualizar de la siguiente manera, Primero definimos la logistica funcion."
   ]
  },
  {
   "cell_type": "code",
   "execution_count": 28,
   "metadata": {},
   "outputs": [],
   "source": [
    "def sigmoid(input):\n",
    "    return 1.0/(1+np.exp(-input))"
   ]
  },
  {
   "cell_type": "markdown",
   "metadata": {},
   "source": [
    "Entrada de variables de -8 a 8, y la salida correspondiente."
   ]
  },
  {
   "cell_type": "code",
   "execution_count": 35,
   "metadata": {},
   "outputs": [
    {
     "data": {
      "image/png": "[encoded data removed]",
      "text/plain": [
       "<Figure size 432x288 with 1 Axes>"
      ]
     },
     "metadata": {
      "needs_background": "light"
     },
     "output_type": "display_data"
    }
   ],
   "source": [
    "z= np.linspace(-8, 8, 1000)\n",
    "y=sigmoid(z)\n",
    "import matplotlib.pyplot as plt\n",
    "plt.plot(z, y)\n",
    "plt.axhline(y=0,ls='dotted', color='k')\n",
    "plt.axhline(y=0.5,ls='dotted', color='k')\n",
    "plt.axhline(y=1, ls='dotted', color='k')\n",
    "plt.yticks([0.0, 0.25, 0.5, 0.75, 1.0])\n",
    "plt.xlabel('z')\n",
    "plt.ylabel('y(z)')\n",
    "plt.show()"
   ]
  },
  {
   "cell_type": "markdown",
   "metadata": {},
   "source": [
    "En la curva en forma de S, todas las entradas se transforman en el rango de 0 a 1. Para las entradas positivas, un valor mayor da como resultado una salida más cercana a 1; para entradas negativas, un valor más pequeño genera una salida más cercana a 0; cuando la entrada es 0, la salida es el punto medio 0.5.\n",
    "\n",
    "# The mechanics of logistic regression\n",
    "\n",
    "Ahora que tenemos conocimiento de la función logística, es fácil asignarla al algoritmo que se deriva de ella. En la regresión logística, la entrada de función z se convierte en la suma ponderada de características. Dada una muestra de datos x con n características $x_1, x_2, ..., x_n$ (x representa un vector de características y $x=(x_1, x_2, ..., x_n))$ y pesos (también llamados coeficientes) del modelo w (w representa un vector $(w_1, w_2, ..., w_n))$, z se expresa de la siguiente manera:\n",
    "\n",
    "\\$z= w_1X_1+w_2x_2+...+w_nX_n= w^Tx\\$\n",
    "\n",
    "O a veces, el modelo viene con una intersección (también llamada sesgo) w0, la relación lineal precedente se convierte en la siguiente:\n",
    "\n",
    "\\$z= w_0+w_1X_1+w_2x_2+...+w_nX_n= w^Tx\\$\n",
    "\n",
    "En cuanto a la salida y (z) en el rango de 0 a 1, en el algoritmo, se convierte en la probabilidad de que el objetivo sea \"1\" o la clase positiva:\n",
    "\n",
    "$\\widehat{y} = P(y=1|x) = \\frac{1}{1+exp(-w^Tx)}$\n",
    "\n",
    "Así, la regresión logística es un clasificador probabilístico, similar al ingenuo Bayes classifier.\n",
    "\n",
    "Un modelo de regresión logística, o específicamente, su vector de peso w se aprende de los datos de entrenamiento, con el objetivo de predecir una muestra positiva lo más cerca posible de 1 y predecir una muestra negativa tan cerca de 0 como sea posible. En lenguaje matemático, los pesos se entrenan para minimizar el costo definido como error cuadrático medio (MSE), que mide el promedio de cuadrados de diferencia entre la verdad y la predicción. Dar m muestras de entrenamiento,\n",
    "\n",
    "$(x^1,y^1),(x^2,y^2),...(x^i,y^i)..,(x^m,y^m)$\n",
    "\n",
    "Donde:\n",
    "$y^i$  es 1 (clase positiva) o 0 (clase negativa), la función de costo J (w) con respecto a los pesos a optimizar se expresa de la siguiente manera:\n",
    "\n",
    "$j(w)= \\frac{1}{m}\\sum{m}{i=1} \\frac{1}{2}(\\widehat{y}(x^i)-y^i)^2$\n",
    "\n",
    "Sin embargo, la función de costo anterior no es convexa, lo que significa que cuando se busca el w óptimo, se encuentran muchos óptimos locales (subóptimos) y la función no converge a un óptimo global.\n",
    "\n",
    "Examples of convex and non-convex function are plotted respectively below:\n",
    "\n",
    "![Graficas](./Imagenes/Graficas1.png \"Título alternativo\")\n",
    "\n",
    "Para superar esto, la función de costo en la práctica se define de la siguiente manera:\n",
    "![Graficas](./Imagenes/f1.png \"Título alternativo\")\n",
    "\n",
    "Podemos echar un vistazo más de cerca al costo de una sola muestra de capacitación:\n",
    "\n",
    "![Graficas](./Imagenes/f2.png \"Título alternativo\")\n",
    "\n",
    "si $y^i = 1$ cuando predice correctamente (clase positiva en 100% de probabilidad), el costo de la muestra j es 0; el costo sigue aumentando cuando es menos probable que sea la clase positiva; cuando predice incorrectamente que no hay posibilidad de ser la clase positiva, el costo es infinitamente alto:\n"
   ]
  },
  {
   "cell_type": "code",
   "execution_count": 37,
   "metadata": {},
   "outputs": [
    {
     "name": "stderr",
     "output_type": "stream",
     "text": [
      "/home/echartea/python/entronoVirtual/lib/python3.6/site-packages/ipykernel_launcher.py:2: RuntimeWarning: divide by zero encountered in log\n",
      "  \n"
     ]
    },
    {
     "data": {
      "image/png": "[encoded data removed]",
      "text/plain": [
       "<Figure size 432x288 with 1 Axes>"
      ]
     },
     "metadata": {
      "needs_background": "light"
     },
     "output_type": "display_data"
    }
   ],
   "source": [
    "y_hat = np.linspace(0, 1, 1000)\n",
    "cost = -np.log(y_hat)\n",
    "plt.plot(y_hat, cost)\n",
    "plt.xlabel('Prediction')\n",
    "plt.ylabel('Cost')\n",
    "plt.xlim(0, 1)\n",
    "plt.ylim(0, 7)\n",
    "plt.show()"
   ]
  },
  {
   "cell_type": "markdown",
   "metadata": {},
   "source": [
    "Por lo contrario si $y^i=0$ , cuando predice correctamente (clase positiva en probabilidad 0 o clase negativa en probabilidad 100%), el costo de muestra j es 0; el costo sigue aumentando cuando es más probable que sea la clase positiva; cuando predice erróneamente que no hay posibilidad de ser la clase negativa, el costo es infinitamente alto:"
   ]
  },
  {
   "cell_type": "code",
   "execution_count": 38,
   "metadata": {},
   "outputs": [
    {
     "name": "stderr",
     "output_type": "stream",
     "text": [
      "/home/echartea/python/entronoVirtual/lib/python3.6/site-packages/ipykernel_launcher.py:2: RuntimeWarning: divide by zero encountered in log\n",
      "  \n"
     ]
    },
    {
     "data": {
      "image/png": "[encoded data removed]",
      "text/plain": [
       "<Figure size 432x288 with 1 Axes>"
      ]
     },
     "metadata": {
      "needs_background": "light"
     },
     "output_type": "display_data"
    }
   ],
   "source": [
    "y_hat = np.linspace(0, 1, 1000)\n",
    "cost = -np.log(y_hat)\n",
    "plt.plot(1-y_hat, cost)\n",
    "plt.xlabel('Prediction')\n",
    "plt.ylabel('Cost')\n",
    "plt.xlim(0, 1)\n",
    "plt.ylim(0, 7)\n",
    "plt.show()"
   ]
  },
  {
   "cell_type": "markdown",
   "metadata": {},
   "source": [
    "Minimizar esta función de costo alternativa es en realidad equivalente a minimizar la función de costo basada en MSE. Y las ventajas de elegirlo sobre el otro incluyen:\n",
    "\n",
    "* Obviamente ser convexo para poder encontrar los pesos óptimos del modelo.\n",
    "* suma de los logaritmos de predicción\n",
    "\n",
    "$\\widehat{y}(x^i)$ o $1-\\widehat{y}(x^i)$\n",
    "\n",
    "simplifica el cálculo de su derivada con respecto a los pesos, de lo que hablaremos más adelante\n",
    "Debido a la función logarítmica, la función de costo\n",
    "\n",
    "![Graficas](./Imagenes/f3.png \"Título alternativo\")\n",
    "\n",
    "También se llama pérdida logarítmica, o simplemente pérdida de registro.\n",
    "\n",
    "# Training a logistic regression model via gradient descent\n",
    "\n",
    "Ahora la pregunta es cómo podemos obtener la w óptima de tal manera que\n",
    "![Graficas](./Imagenes/f4.png \"Título alternativo\") se minimiza Lo hacemos a través del descenso de gradiente."
   ]
  },
  {
   "cell_type": "markdown",
   "metadata": {},
   "source": [
    "El descenso de gradiente (también llamado descenso más pronunciado) es un procedimiento para minimizar una función objetivo mediante la optimización iterativa de primer orden. En cada iteración, mueve un paso que es proporcional a la derivada negativa de la función objetivo en el punto actual. Esto significa que el punto para ser óptimo se mueve iterativamente cuesta abajo hacia el valor mínimo de la función objetivo. La proporción que acabamos de mencionar se llama tasa de aprendizaje o tamaño de paso. Se puede resumir en una ecuación matemática:\n",
    "\n",
    "$w:= w -\\eta\\Delta w$"
   ]
  },
  {
   "cell_type": "markdown",
   "metadata": {},
   "source": [
    "Donde la izquierda w es el vector de peso después de un paso de aprendizaje, y la derecha w es el que está antes de moverse,\n",
    "* $\\eta$ es la tasa de aprendizaje \n",
    "* $\\Delta w$ es la derivada de primer orden, el gradiente.\n",
    "\n",
    "En nuestro caso, comencemos con la derivada de la función de costo $j(w)$ con respecto a w. Puede requerir algunos conocimientos de cálculo, pero no te preocupes;\n",
    "lo veremos paso a paso.\n",
    "\n",
    "Primero calculamos la derivada de $\\widehat{y}(x)$ con respecto a w. Aquí tomamos el j-ésimo peso w j como ejemplo (nota) $z=w^Tx$ y omitimos el exponencial i por simplicidad.\n",
    "![Graficas](./Imagenes/f5.png \"Título alternativo\") \n",
    "\n",
    "Entonces la derivada de la muestra cuesta J (w):\n",
    "![Graficas](./Imagenes/f6.png \"Título alternativo\")\n",
    "\n",
    "Y finalmente el costo total sobre m muestras:\n",
    "![Graficas](./Imagenes/f7.png \"Título alternativo\")\n",
    "\n",
    "Generalízalo a\n",
    "![Graficas](./Imagenes/f8.png \"Título alternativo\")\n",
    "\n",
    "En combinación con las derivaciones anteriores, los pesos se pueden actualizar de la siguiente manera:\n",
    "\n",
    "![Graficas](./Imagenes/f9.png \"Título alternativo\")\n",
    "\n",
    "w se actualiza en cada iteración. Después de un número sustancial de iteraciones, los w y b aprendidos se usan para clasificar una nueva muestra \n",
    "\n",
    "![Graficas](./Imagenes/f10.png \"Título alternativo\")\n",
    "\n",
    "como sigue:\n",
    "\n",
    "![Graficas](./Imagenes/f11.png \"Título alternativo\")\n",
    "\n",
    "![Graficas](./Imagenes/f12.png \"Título alternativo\")"
   ]
  },
  {
   "cell_type": "markdown",
   "metadata": {},
   "source": [
    "El umbral de decisión es 0.5 por defecto, pero definitivamente puede ser otros valores. En un caso en el que se supone que se debe evitar el falso negativo, por ejemplo, prediciendo la ocurrencia de incendios (clase positiva) para alerta, el umbral de decisión puede ser inferior a 0.5, como 0.3, dependiendo de cuán paranoicos somos y cuán proactivamente queremos evitar que ocurra el evento positivo. Por otro lado, cuando la clase de falsos positivos es la que debe evadirse, por ejemplo, prediciendo la tasa de éxito del producto (clase positiva) para el aseguramiento de la calidad, el umbral de decisión puede ser mayor que 0.5, como 0.7, en función de qué tan alto El estándar que establecemos es.\n",
    "\n",
    "Con una comprensión profunda del proceso de predicción y entrenamiento basado en el descenso de gradiente, ahora implementamos el algoritmo de regresión logística desde cero.\n",
    "\n",
    "Comenzamos definiendo la función calculando la predicción $\\widehat{y}(x)$ con pesos actuales:\n"
   ]
  },
  {
   "cell_type": "code",
   "execution_count": 39,
   "metadata": {},
   "outputs": [],
   "source": [
    "def compute_prediction(X, weights):\n",
    "    \"\"\" Compute the prediction y_hat based on current weigh\n",
    "    Args:\n",
    "        X (numpy.ndarray)\n",
    "        weights (numpy.ndarray)\n",
    "    Returns:\n",
    "    numpy.ndarray, y_hat of X under weights\n",
    "    \"\"\"\n",
    "    z = np.dot(X, weights)\n",
    "    predictions = sigmoid(z)\n",
    "    return predictions"
   ]
  },
  {
   "cell_type": "markdown",
   "metadata": {},
   "source": [
    "Con esto, podemos continuar con la función actualizando los pesos\n",
    "![Graficas](./Imagenes/f14.png \"Título alternativo\")\n",
    "por un paso en una pendiente descendente:"
   ]
  },
  {
   "cell_type": "code",
   "execution_count": 40,
   "metadata": {},
   "outputs": [],
   "source": [
    "def update_weights_gd(X_train, y_train, weights,learning_rate):\n",
    "    \"\"\" Update weights by one step\n",
    "    Args:\n",
    "    X_train, y_train (numpy.ndarray, training data set)\n",
    "    weights (numpy.ndarray)\n",
    "    learning_rate (float)\n",
    "    Returns:\n",
    "    numpy.ndarray, updated weights\n",
    "    \"\"\"\n",
    "    predictions = compute_prediction(X_train, weights)\n",
    "    weights_delta = np.dot(X_train.T, y_train - predictions)\n",
    "    m = y_train.shape[0]\n",
    "    weights += learning_rate / float(m) * weights_delta\n",
    "    return weights\n",
    "        \n",
    "        "
   ]
  },
  {
   "cell_type": "markdown",
   "metadata": {},
   "source": [
    "Y la función que calcula el costo J (w) también:"
   ]
  },
  {
   "cell_type": "code",
   "execution_count": 41,
   "metadata": {},
   "outputs": [],
   "source": [
    "def compute_cost(X, y, weights):\n",
    "    \"\"\" Compute the cost J(w)\n",
    "    Args:\n",
    "        X, y (numpy.ndarray, data set)\n",
    "        weights (numpy.ndarray)\n",
    "    Returns:\n",
    "        float\n",
    "    \"\"\"\n",
    "    predictions = compute_prediction(X, weights)\n",
    "    cost = np.mean(-y * np.log(predictions)- (1 - y) * np.log(1 - predictions))\n",
    "    return cost"
   ]
  },
  {
   "cell_type": "markdown",
   "metadata": {},
   "source": [
    "Ahora conectamos todas estas funciones junto con la función de entrenamiento modelo mediante:\n",
    "\n",
    "* Actualización del vector de pesos en cada iteración\n",
    "* Imprimir el costo actual por cada 100 iteraciones (pueden ser otros valores) para garantizar que el costo disminuya y que las cosas estén en el camino correcto"
   ]
  },
  {
   "cell_type": "code",
   "execution_count": 44,
   "metadata": {},
   "outputs": [],
   "source": [
    "def train_logistic_regression(X_train, y_train, max_iter,learning_rate, fit_intercept=False):\n",
    "    \"\"\" Train a logistic regression model\n",
    "    Args:\n",
    "        X_train, y_train (numpy.ndarray, training data set)\n",
    "        max_iter (int, number of iterations)\n",
    "        learning_rate (float)\n",
    "        fit_inte\n",
    "        rcept (bool, with an intercept w0 or not)\n",
    "    Returns:\n",
    "        numpy.ndarray, learned weights\n",
    "    \"\"\"\n",
    "    if fit_intercept:\n",
    "        intercept = np.ones((X_train.shape[0], 1))\n",
    "        X_train = np.hstack((intercept, X_train))\n",
    "    weights = np.zeros(X_train.shape[1])\n",
    "    for iteration in range(max_iter):\n",
    "        weights = update_weights_gd(X_train, y_train,weights, learning_rate)\n",
    "        # Check the cost for every 100 (for example)\n",
    "            #iterations\n",
    "        if iteration % 100 == 0:\n",
    "            print(compute_cost(X_train, y_train, weights))\n",
    "    return weights"
   ]
  },
  {
   "cell_type": "markdown",
   "metadata": {},
   "source": [
    "Y finalmente, prediga los resultados de nuevas entradas utilizando el modelo entrenado:"
   ]
  },
  {
   "cell_type": "code",
   "execution_count": 45,
   "metadata": {},
   "outputs": [],
   "source": [
    "def predict(X, weights):\n",
    "    if X.shape[1] == weights.shape[0] - 1:\n",
    "        intercept = np.ones((X.shape[0], 1))\n",
    "        X = np.hstack((intercept, X))\n",
    "    return compute_prediction(X, weights)"
   ]
  },
  {
   "cell_type": "markdown",
   "metadata": {},
   "source": [
    "Implementar la regresión logística es muy simple como acabamos de ver. Vamos a examinarlo con un pequeño ejemplo:"
   ]
  },
  {
   "cell_type": "code",
   "execution_count": 46,
   "metadata": {},
   "outputs": [],
   "source": [
    "X_train = np.array([[6, 7],[2, 4],[3, 6],[4, 7],[1, 6],[5, 2],[2, 0],[6, 3],[4, 1],[7, 2]])\n",
    "y_train = np.array([0,0,0,0,0,1,1,1,1,1])"
   ]
  },
  {
   "cell_type": "markdown",
   "metadata": {},
   "source": [
    "Entrene un modelo de regresión logística en 1000 iteraciones, a una tasa de aprendizaje de 0.1 basada en los pesos incluidos en la intercepción:"
   ]
  },
  {
   "cell_type": "code",
   "execution_count": 47,
   "metadata": {},
   "outputs": [
    {
     "name": "stdout",
     "output_type": "stream",
     "text": [
      "0.5744042371657099\n",
      "0.034460223392510314\n",
      "0.018265572708476157\n",
      "0.012493458388041109\n",
      "0.00951532913854744\n",
      "0.007693388060646923\n",
      "0.0064620943335143306\n",
      "0.0055735118468322594\n",
      "0.004901632254525041\n",
      "0.004375567740665121\n"
     ]
    }
   ],
   "source": [
    "weights = train_logistic_regression(X_train, y_train,max_iter=1000, learning_rate=0.1, fit_intercept=True)"
   ]
  },
  {
   "cell_type": "markdown",
   "metadata": {},
   "source": [
    "El costo decreciente significa que el modelo se está optimizando. Podemos verificar el rendimiento del modelo en nuevas muestras:"
   ]
  },
  {
   "cell_type": "code",
   "execution_count": 49,
   "metadata": {},
   "outputs": [
    {
     "data": {
      "text/plain": [
       "array([0.9999478 , 0.00743991, 0.9808652 , 0.02080847])"
      ]
     },
     "execution_count": 49,
     "metadata": {},
     "output_type": "execute_result"
    }
   ],
   "source": [
    "X_test = np.array([[6, 1],[1, 3],[3, 1],[4, 5]])\n",
    "predictions = predict(X_test, weights)\n",
    "predictions"
   ]
  },
  {
   "cell_type": "markdown",
   "metadata": {},
   "source": [
    "Para visualizar use lo siguiente."
   ]
  },
  {
   "cell_type": "code",
   "execution_count": 50,
   "metadata": {},
   "outputs": [
    {
     "data": {
      "text/plain": [
       "<matplotlib.collections.PathCollection at 0x7f15b888fc50>"
      ]
     },
     "execution_count": 50,
     "metadata": {},
     "output_type": "execute_result"
    },
    {
     "data": {
      "image/png": "[encoded data removed]",
      "text/plain": [
       "<Figure size 432x288 with 1 Axes>"
      ]
     },
     "metadata": {
      "needs_background": "light"
     },
     "output_type": "display_data"
    }
   ],
   "source": [
    "plt.scatter(X_train[:,0], X_train[:,1], c=['b']*5+['k']*5,marker='o')"
   ]
  },
  {
   "cell_type": "markdown",
   "metadata": {},
   "source": [
    "Use 0.5 como el umbral de decisión de clasificación:"
   ]
  },
  {
   "cell_type": "code",
   "execution_count": 51,
   "metadata": {},
   "outputs": [
    {
     "data": {
      "image/png": "[encoded data removed]",
      "text/plain": [
       "<Figure size 432x288 with 1 Axes>"
      ]
     },
     "metadata": {
      "needs_background": "light"
     },
     "output_type": "display_data"
    }
   ],
   "source": [
    "colours = ['k' if prediction >= 0.5 else 'b'for prediction in predictions]\n",
    "\n",
    "plt.scatter(X_test[:,0], X_test[:,1], marker='*', c=colours)\n",
    "plt.xlabel('x1')\n",
    "plt.ylabel('x2')\n",
    "plt.show()"
   ]
  },
  {
   "cell_type": "markdown",
   "metadata": {},
   "source": [
    "El modelo que entrenamos correctamente predice nuevas muestras (las estrellas anteriores)."
   ]
  },
  {
   "cell_type": "code",
   "execution_count": null,
   "metadata": {},
   "outputs": [],
   "source": [
    "p 209 completa."
   ]
  }
 ],
 "metadata": {
  "kernelspec": {
   "display_name": "Python 3",
   "language": "python",
   "name": "python3"
  },
  "language_info": {
   "codemirror_mode": {
    "name": "ipython",
    "version": 3
   },
   "file_extension": ".py",
   "mimetype": "text/x-python",
   "name": "python",
   "nbconvert_exporter": "python",
   "pygments_lexer": "ipython3",
   "version": "3.6.9"
  }
 },
 "nbformat": 4,
 "nbformat_minor": 4
}
