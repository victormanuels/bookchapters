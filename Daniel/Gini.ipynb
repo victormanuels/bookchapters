{
 "cells": [
  {
   "cell_type": "markdown",
   "metadata": {},
   "source": [
    "Las metricas para medir una division\n",
    "\n",
    "Cuando seleccionamos la mejor combinacion de caracteristicas y valores para dividir un punto en dos criterios, la impureza Gini y su informacion de ganancia puede ser usado como una medidad de separacion de calidad.  \n",
    "\n",
    "Gini impureza como su nombre lo indica, mide la tasa de impurezas de clase, la clase velocidad de mezcla para un conjunto de datos con clases K, suponga que los datos de la clase k:\n",
    "(1 <= k <= k) toma una fraccion\n",
    "fk(0 <= fk <= 1)\n",
    "En casos binarios Gini impurity se encuentra bajo diferentes valores de clases positivas fraccionarias que pueden ser visualizadas con el siguiente codigo:"
   ]
  },
  {
   "cell_type": "code",
   "execution_count": 12,
   "metadata": {},
   "outputs": [
    {
     "data": {
      "image/png": "[encoded data removed]",
      "text/plain": [
       "<Figure size 432x288 with 1 Axes>"
      ]
     },
     "metadata": {
      "needs_background": "light"
     },
     "output_type": "display_data"
    }
   ],
   "source": [
    "import matplotlib.pyplot as plt\n",
    "import numpy as np\n",
    "pos_fraction = np.linspace(0.00, 1.00, 1000)\n",
    "plt.plot(pos_fraction, gini)\n",
    "gini = 1 - pos_fraction**2 - (1-pos_fraction)**2\n",
    "plt.ylim(0,1)\n",
    "plt.xlabel('Positive fraction')\n",
    "plt.ylabel('Gini Impurity')\n",
    "plt.show()"
   ]
  },
  {
   "cell_type": "code",
   "execution_count": 13,
   "metadata": {},
   "outputs": [
    {
     "name": "stdout",
     "output_type": "stream",
     "text": [
      "0.4800\n",
      "0.5000\n",
      "0.0000\n"
     ]
    }
   ],
   "source": [
    "def gini_impurity(labels):\n",
    "    counts = np.unique(labels, return_counts = True)[1]\n",
    "    fractions = counts / float(len(labels))\n",
    "    return 1 - np.sum(fractions ** 2)\n",
    "print('{0:.4f}'.format(gini_impurity([1,1,0,1,0])))\n",
    "print('{0:.4f}'.format(gini_impurity([1,1,0,1,0,0])))\n",
    "print('{0:.4f}'.format(gini_impurity([1,1,1,1])))"
   ]
  },
  {
   "cell_type": "markdown",
   "metadata": {},
   "source": [
    "En orden de evaluar la calidad de la division nosotros simplemennte agregamos la impureza, de los resultados de los subgrupos combinando las porciones de cada uno de los subgrupos que corresponden a los factores de peso. Y de nuevo la pequeña ponderacion sumada de la impureza Gini, los mejores resultados se dividen. "
   ]
  },
  {
   "cell_type": "markdown",
   "metadata": {},
   "source": [
    "Entropia  es la media probabilistica de la incertidumbre, dandole a K-class un dataset y fk 0 <= fk <=1\n",
    "denotado la fraccion del dato desde la clase k(1 <= k <= K).\n",
    "Similarmente nosotros podemos visualizar como la entropia cambia debajo de diferentes valores de las clases positivas, fraccionarias en casos binarios como el siguiente codigo:"
   ]
  },
  {
   "cell_type": "code",
   "execution_count": 16,
   "metadata": {},
   "outputs": [
    {
     "name": "stderr",
     "output_type": "stream",
     "text": [
      "/home/daniel/anaconda3/lib/python3.7/site-packages/ipykernel_launcher.py:2: RuntimeWarning: divide by zero encountered in log2\n",
      "  \n",
      "/home/daniel/anaconda3/lib/python3.7/site-packages/ipykernel_launcher.py:2: RuntimeWarning: invalid value encountered in multiply\n",
      "  \n",
      "/home/daniel/anaconda3/lib/python3.7/site-packages/ipykernel_launcher.py:3: RuntimeWarning: divide by zero encountered in log2\n",
      "  This is separate from the ipykernel package so we can avoid doing imports until\n",
      "/home/daniel/anaconda3/lib/python3.7/site-packages/ipykernel_launcher.py:3: RuntimeWarning: invalid value encountered in multiply\n",
      "  This is separate from the ipykernel package so we can avoid doing imports until\n"
     ]
    },
    {
     "data": {
      "image/png": "[encoded data removed]",
      "text/plain": [
       "<Figure size 432x288 with 1 Axes>"
      ]
     },
     "metadata": {
      "needs_background": "light"
     },
     "output_type": "display_data"
    }
   ],
   "source": [
    "pos_fraction = np.linspace(0.00, 1.00, 1000)\n",
    "ent = - (pos_fraction * np.log2(pos_fraction) +\n",
    "(1 - pos_fraction) * np.log2(1 - pos_fraction))\n",
    "plt.plot(pos_fraction, ent)\n",
    "plt.xlabel('Positive Fraction')\n",
    "plt.ylabel('Entropy')\n",
    "plt.ylim(0, 1)\n",
    "plt.show()"
   ]
  },
  {
   "cell_type": "markdown",
   "metadata": {},
   "source": [
    "Se le da etiquetas al dataset, la calculacion de la funcion de la entropia puede ser implementada de la siguiente manera:"
   ]
  },
  {
   "cell_type": "code",
   "execution_count": 33,
   "metadata": {},
   "outputs": [],
   "source": [
    "def entropy (labels):\n",
    "    if not labels:\n",
    "        return 0\n",
    "    counts = np.unique(labels, return_counts = True)[1]\n",
    "    fractions = counts / float(len(labels))\n",
    "    return - np.sum(fractions * np.log2(fractions))"
   ]
  },
  {
   "cell_type": "markdown",
   "metadata": {},
   "source": [
    "Ahora que hemos entendido completamente la entropía, ahora podemos buscar información\n",
    "ganancia midiendo cuánta incertidumbre se reduce después de la división, que es definido como la diferencia de entropía antes de una división (padre) y después de la división (hijos):\n",
    "\n",
    "Informacion Gain = Entropy(before) - Entropy(after) = Entropy(parent) - Entropy(children)\n",
    "La entropía después de una división se calcula como la suma ponderada de entropía de cada hijo,\n",
    "de manera similar a la impureza de Gini ponderada.\n",
    "\n",
    "Durante el proceso de construcción de un nodo en un árbol, nuestro objetivo es buscar un\n",
    "punto de división donde se obtiene la máxima ganancia de información. Como la entropía del nodo padre no ha cambiado, solo necesitamos medir la entropía de hijos resultantes debido a una división. \n",
    "\n",
    "La mejor división es la que tiene menos entropía de hijos resultantes.\n",
    "\n",
    "En general, la elección de dos métricas, la impureza de Gini y la ganancia de información, tiene\n",
    "poco efecto en el rendimiento del árbol de decisión entrenado. Ambos miden la impureza ponderada de los niños después de una separación. Podemos combinarlos en una función que calcula la impureza ponderada:\n",
    "\n"
   ]
  },
  {
   "cell_type": "code",
   "execution_count": 34,
   "metadata": {},
   "outputs": [],
   "source": [
    "criterion_function = {'gini' : gini_impurity, 'entropy' : entropy}\n",
    "def weighted_impurity(groups, criterion = 'gini'):\n",
    "    \"\"\"\n",
    "     Calcula le medicion de impurezas de los hijos despues de dividirlos\n",
    "     groups(list de hijos, e hijos consiste en la etiqueta de clases)\n",
    "     criterios (metricas de medidas de calidad de division 'gini' para impurezas Gini o entropia\n",
    "     para la informacion de ganancia)\n",
    "     Returns:\n",
    "     float, medido de impurezas\n",
    "    \"\"\"\n",
    "    total = sum(len(group) for group in groups)\n",
    "    weighted_sum = 0.0\n",
    "    for group in groups:\n",
    "        weighted_sum += len(group) / float(total) * criterion_function[criterion](group)\n",
    "    return weighted_sum"
   ]
  },
  {
   "cell_type": "code",
   "execution_count": 35,
   "metadata": {},
   "outputs": [
    {
     "name": "stdout",
     "output_type": "stream",
     "text": [
      "Entropy of #1 split: 0.9510\n",
      "Entropy of #2 split:0.5510\n"
     ]
    }
   ],
   "source": [
    "children_1 = [[1, 0, 1], [0, 1]]\n",
    "children_2 = [[1, 1], [0, 0, 1]]\n",
    "print('Entropy of #1 split: {0:.4f}'.format(weighted_impurity(children_1, 'entropy')))\n",
    "print('Entropy of #2 split:{0:.4f}'.format(weighted_impurity(children_2, 'entropy')))"
   ]
  },
  {
   "cell_type": "markdown",
   "metadata": {},
   "source": [
    "La implementacion de un arbol de decicion\n"
   ]
  },
  {
   "cell_type": "code",
   "execution_count": 39,
   "metadata": {},
   "outputs": [],
   "source": [
    "def gini_impurity(labels):\n",
    "  # When the set is empty, it is also pure\n",
    "  if labels.size == 0:\n",
    "    return 0\n",
    "  # Count the occurrences of each label\n",
    "  counts = np.unique(labels, return_counts=True)[1]\n",
    "  fractions = counts / float(len(labels))\n",
    "  return 1 - np.sum(fractions ** 2)\n",
    "\n",
    "def entropy(labels):\n",
    "  # When the set is empty, it is also pure\n",
    "  if labels.size == 0:\n",
    "    return 0\n",
    "  counts = np.unique(labels, return_counts=True)[1]\n",
    "  fractions = counts / float(len(labels))\n",
    "  return - np.sum(fractions * np.log2(fractions))"
   ]
  },
  {
   "cell_type": "markdown",
   "metadata": {},
   "source": [
    "Lo siquiente, debemos definir una funcion de utilidad para dividir el nodo dentro de la izquierda y la derecha, basado en un valor:"
   ]
  },
  {
   "cell_type": "code",
   "execution_count": 47,
   "metadata": {},
   "outputs": [],
   "source": [
    "def split_node(X, y, index, value):\n",
    "    \"\"\" Split data set X, y based on a feature and a value\n",
    "    Args:\n",
    "         X, y (numpy.ndarray, data set)\n",
    "         index (int, index of the feature used for splitting)\n",
    "         value (value of the feature used for splitting)\n",
    "    Returns:\n",
    "         list, list: left and right child, a child is in the\n",
    "         format of [X, y]\n",
    "    \"\"\"\n",
    "    x_index=X[:, index]\n",
    "    #if this feature is numerical\n",
    "    if X[0, index].dtype.kind in ['i', 'f']:\n",
    "        mask=x_index >= value\n",
    "    #if this feature is categorical\n",
    "    else:\n",
    "        mask=x_index == value\n",
    "    #split into left and right child\n",
    "    left=[X[~mask, :], y[~mask]]\n",
    "    right = [X[mask, :], y[mask]]\n",
    "    return left, right"
   ]
  },
  {
   "cell_type": "markdown",
   "metadata": {},
   "source": [
    "Con las funciones de generación y medición de división disponibles, ahora\n",
    "definir la función de búsqueda, probando todas las divisiones posibles y devolviendo el\n",
    "el mejor dado un criterio de selección, junto con los hijos resultantes:\n",
    "\n"
   ]
  },
  {
   "cell_type": "code",
   "execution_count": 46,
   "metadata": {},
   "outputs": [],
   "source": [
    "def get_best_split(X, y, criterion):\n",
    "    \"\"\" Obtain the best splitting point and resulting children\n",
    "       for the data set X, y\n",
    "    Args:\n",
    "        X, y (numpy.ndarray, data set)\n",
    "        criterion (gini or entropy)\n",
    "    Returns:\n",
    "    dict {index: index of the feature, value: feature\n",
    "            value, children: left and right children}\n",
    "    \"\"\"\n",
    "    best_index, best_value, best_score, children = None, None, 1, None\n",
    "\n",
    "    for index in range(len(X[0])):\n",
    "        for value in np.sort(np.unique(X[:, index])):\n",
    "            groups = split_node(X, y, index, value)\n",
    "            impurity = weighted_impurity(\n",
    "                       [groups[0][1], groups[1][1]], criterion)\n",
    "            if impurity < best_score: best_index, best_value, best_score, children = index, value, impurity, groups\n",
    "    return {'index': best_index, 'value': best_value,\n",
    "            'children': children}"
   ]
  },
  {
   "cell_type": "code",
   "execution_count": 59,
   "metadata": {},
   "outputs": [],
   "source": [
    "def get_leaf(labels):\n",
    "   #Obtain the leaf as the majority of the labels\n",
    "   return np.bincount(labels).argmax()"
   ]
  },
  {
   "cell_type": "markdown",
   "metadata": {},
   "source": [
    "Y, finalmente, la función recursiva que une todo esto mediante:\n",
    "\n",
    "Asignación de un nodo hoja si uno de los dos nodos hijos está vacío\n",
    "Asignación de un nodo hoja si la profundidad de la rama actual excede la profundidad máxima permitida\n",
    "Asignación de un nodo hoja si no contiene suficientes muestras necesarias para una nueva división de lo contrario, continúa con divisiones adicionales con el punto de división óptimo\n",
    "\n"
   ]
  },
  {
   "cell_type": "code",
   "execution_count": 82,
   "metadata": {},
   "outputs": [],
   "source": [
    "def split(node, max_depth, min_size, depth, criterion):\n",
    "    \"\"\" Split children of a node to construct new nodes or\n",
    "        assign them terminals\n",
    "    Args:\n",
    "       node (dict, with children info)\n",
    "       max_depth (int, maximal depth of the tree)\n",
    "       min_size (int, minimal samples required to further split a child)\n",
    "       depth (int, current depth of the node)\n",
    "       criterion (gini or entropy)\n",
    "    \"\"\"\n",
    "    left, right = node['children']\n",
    "    del (node['children'])\n",
    "    if left[1].size == 0:\n",
    "        node['right'] = get_leaf(right[1])\n",
    "        return\n",
    "    if right[1].size == 0:\n",
    "        node['left'] = get_leaf(left[1])\n",
    "        return\n",
    "    #Check if the current depth exceeds the maximal depth\n",
    "    if depth >= max_depth:\n",
    "        node['left'], node['right'] = get_leaf(left[1]), get_leaf(right[1])\n",
    "        return\n",
    "    #Check if the left child has enough samples\n",
    "    if left[1].size <= min_size:\n",
    "        node['left'] = get_leaf(left[1])\n",
    "    else:\n",
    "        #It has enough samples, we further split it\n",
    "        result = get_best_split(left[0], left[1], criterion) \n",
    "        result_left, result_right = result['children']\n",
    "        if result_left[1].size == 0:\n",
    "            node['left'] = get_leaf(result_right[1])\n",
    "        elif result_right[1].size == 0:\n",
    "            node['left'] = get_leaf(result_left[1])\n",
    "        else:\n",
    "            node['left'] = result\n",
    "            split(node['left'], max_depth, min_size,\n",
    "                                                        depth + 1, criterion)\n",
    "    #Check if the right child has enough samples\n",
    "    if right[1].size <= min_size:\n",
    "        node['right'] = get_leaf(right[1])\n",
    "    else:\n",
    "    #It has enough samples, we further split it\n",
    "        result = get_best_split(right[0], right[1], criterion)\n",
    "        result_left, result_right = result['children']\n",
    "        if result_left[1].size == 0:\n",
    "            node['right'] = get_leaf(result_right[1])\n",
    "        elif result_right[1].size == 0:\n",
    "            node['right'] = get_leaf(result_left[1])\n",
    "        else:\n",
    "            node['right'] = result\n",
    "            split(node['right'], max_depth, min_size,\n",
    "                                    depth + 1, criterion)\n",
    "    \n"
   ]
  },
  {
   "cell_type": "markdown",
   "metadata": {},
   "source": [
    "Enseguida el punto de entrada de construccion del arbol:"
   ]
  },
  {
   "cell_type": "code",
   "execution_count": 92,
   "metadata": {},
   "outputs": [],
   "source": [
    "def train_tree(X_train, y_train, max_depth, min_size,\n",
    "               criterion='gini'):\n",
    "    \"\"\" Construction of a tree starts here\n",
    "    Args:\n",
    "        X_train, y_train (list, list, training data)\n",
    "        max_depth (int, maximal depth of the tree)\n",
    "        min_size (int, minimal samples required to further\n",
    "                   split a child)\n",
    "        criterion (gini or entropy)\n",
    "    \"\"\"\n",
    "    X = np.array(X_train)\n",
    "    y = np.array(y_train)\n",
    "    root = get_best_split(X, y, criterion)\n",
    "    split(root, max_depth, min_size, 1, criterion)\n",
    "    return root"
   ]
  },
  {
   "cell_type": "markdown",
   "metadata": {},
   "source": [
    "Ahora probemos el test precediendo del calculo manual:"
   ]
  },
  {
   "cell_type": "code",
   "execution_count": 93,
   "metadata": {},
   "outputs": [],
   "source": [
    "X_train = [['tech', 'professional'],\n",
    "           ['fashion', 'student'],\n",
    "           ['fashion', 'professional'],\n",
    "           ['sports', 'student'],\n",
    "           ['tech', 'student'],\n",
    "           ['tech', 'retired'],\n",
    "           ['sports', 'professional']]\n",
    "y_train = [1, 0, 0, 0, 1, 0, 1]\n",
    "tree = train_tree(X_train, y_train, 2, 2)"
   ]
  },
  {
   "cell_type": "markdown",
   "metadata": {},
   "source": [
    "Para verificar el arbol de entrenamiento es identico al que construimos escribimos una funcion que muestra  el arbol."
   ]
  },
  {
   "cell_type": "code",
   "execution_count": 95,
   "metadata": {},
   "outputs": [],
   "source": [
    "CONDITION = {'numerical': {'yes': '>=', 'no': '<'},\n",
    "             'categorical': {'yes': 'is', 'no': 'is not'}}\n",
    "def visualize_tree(node, depth=0):\n",
    "    if isinstance(node, dict):\n",
    "        if node['value'].dtype.kind in ['i', 'f']:\n",
    "            condition = CONDITION['numerical']\n",
    "        else:\n",
    "            condition = CONDITION['categorical']\n",
    "        print('{}|- X{} {} {}'.format(depth * ' ',\n",
    "            node['index'] + 1, condition['no'], node['value']))\n",
    "        if 'left' in node:\n",
    "            visualize_tree(node['left'], depth + 1)\n",
    "        print('{}|- X{} {} {}'.format(depth * ' ',\n",
    "          node['index'] + 1, condition['yes'], node['value']))\n",
    "        if 'right' in node:\n",
    "            visualize_tree(node['right'], depth + 1)\n",
    "    else:\n",
    "        print('{}[{}]'.format(depth * ' ', node))"
   ]
  },
  {
   "cell_type": "code",
   "execution_count": 96,
   "metadata": {},
   "outputs": [
    {
     "name": "stdout",
     "output_type": "stream",
     "text": [
      "|- X1 is not fashion\n",
      " |- X2 is not professional\n",
      "  [0]\n",
      " |- X2 is professional\n",
      "  [1]\n",
      "|- X1 is fashion\n",
      " [0]\n"
     ]
    }
   ],
   "source": [
    "visualize_tree(tree)"
   ]
  },
  {
   "cell_type": "code",
   "execution_count": 98,
   "metadata": {},
   "outputs": [
    {
     "name": "stdout",
     "output_type": "stream",
     "text": [
      "|- X2 < 4\n",
      " |- X1 < 7\n",
      "  [1]\n",
      " |- X1 >= 7\n",
      "  [0]\n",
      "|- X2 >= 4\n",
      " |- X1 < 2\n",
      "  [1]\n",
      " |- X1 >= 2\n",
      "  [0]\n"
     ]
    }
   ],
   "source": [
    "X_train_n = [[6, 7],\n",
    "            [2, 4],\n",
    "            [7, 2],\n",
    "            [3, 6],\n",
    "            [4, 7],\n",
    "            [5, 2],\n",
    "            [1, 6],\n",
    "            [2, 0],\n",
    "            [6, 3],\n",
    "            [4, 1]]\n",
    "y_train_n =[0, 0, 0, 0, 0, 1, 1, 1, 1, 1] \n",
    "tree = train_tree(X_train_n, y_train_n, 2, 2)\n",
    "visualize_tree(tree)"
   ]
  },
  {
   "cell_type": "markdown",
   "metadata": {},
   "source": [
    "Ahora que tenemos una comprensión más sólida del árbol de decisión al darnos cuenta\n",
    "desde cero, podemos probar el paquete del árbol de decisiones de scikit-learn, que es\n",
    "ya bien desarrollado."
   ]
  },
  {
   "cell_type": "code",
   "execution_count": 121,
   "metadata": {},
   "outputs": [],
   "source": [
    "from sklearn.tree import DecisionTreeClassifier\n",
    "from sklearn.tree import DecisionTreeClassifier, export_graphviz\n",
    "tree_sk = DecisionTreeClassifier(criterion='gini', \n",
    "                             max_depth=2, min_samples_split=2)\n",
    "tree_sk.fit(X_train_n, y_train_n)\n",
    "\n",
    "export_graphviz(tree_sk, out_file='tree.dot',\n",
    "    feature_names=['X1', 'X2'], impurity=False, filled=True,\n",
    "    class_names=['0', '1'])"
   ]
  }
 ],
 "metadata": {
  "kernelspec": {
   "display_name": "Python 3",
   "language": "python",
   "name": "python3"
  },
  "language_info": {
   "codemirror_mode": {
    "name": "ipython",
    "version": 3
   },
   "file_extension": ".py",
   "mimetype": "text/x-python",
   "name": "python",
   "nbconvert_exporter": "python",
   "pygments_lexer": "ipython3",
   "version": "3.7.6"
  }
 },
 "nbformat": 4,
 "nbformat_minor": 4
}
